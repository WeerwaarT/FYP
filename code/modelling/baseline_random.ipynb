{
 "cells": [
  {
   "cell_type": "code",
   "execution_count": 17,
   "metadata": {
    "collapsed": true,
    "ExecuteTime": {
     "end_time": "2023-05-15T11:57:20.216481100Z",
     "start_time": "2023-05-15T11:57:20.168437300Z"
    }
   },
   "outputs": [],
   "source": [
    "import pandas as pd"
   ]
  },
  {
   "cell_type": "code",
   "execution_count": 18,
   "outputs": [],
   "source": [
    "df = pd.read_csv(f'../LFM-1b/LFM-1b_artists_filtered.txt', sep='\\t', header=None)\n",
    "artist_ids_set = list(df[0])"
   ],
   "metadata": {
    "collapsed": false,
    "ExecuteTime": {
     "end_time": "2023-05-15T11:57:20.329584100Z",
     "start_time": "2023-05-15T11:57:20.171440Z"
    }
   }
  },
  {
   "cell_type": "code",
   "execution_count": 19,
   "outputs": [],
   "source": [
    "df_plays_test = pd.read_csv('../testing/test_playcounts.txt', sep='\\t')\n",
    "user_ids = df_plays_test['user_id'].unique()\n",
    "user_artists_dict = df_plays_test.groupby('user_id')['artist_id'].apply(list).to_dict()"
   ],
   "metadata": {
    "collapsed": false,
    "ExecuteTime": {
     "end_time": "2023-05-15T11:57:20.407655200Z",
     "start_time": "2023-05-15T11:57:20.328583200Z"
    }
   }
  },
  {
   "cell_type": "code",
   "execution_count": 20,
   "outputs": [],
   "source": [
    "import random"
   ],
   "metadata": {
    "collapsed": false,
    "ExecuteTime": {
     "end_time": "2023-05-15T11:57:20.422669100Z",
     "start_time": "2023-05-15T11:57:20.409657Z"
    }
   }
  },
  {
   "cell_type": "code",
   "execution_count": 21,
   "outputs": [],
   "source": [
    "def recommend_and_evaluate(k=100):\n",
    "    accuracies = []\n",
    "\n",
    "    for user_id, artist_ids in user_artists_dict.items():\n",
    "        recommended_artists = random.sample(artist_ids_set, k)\n",
    "\n",
    "        hits = sum(artist_id in artist_ids for artist_id in recommended_artists)\n",
    "        accuracy = hits / k\n",
    "        accuracies.append(accuracy)\n",
    "\n",
    "    average_accuracy = sum(accuracies) / len(accuracies)\n",
    "    return average_accuracy"
   ],
   "metadata": {
    "collapsed": false,
    "ExecuteTime": {
     "end_time": "2023-05-15T11:57:20.442687100Z",
     "start_time": "2023-05-15T11:57:20.423669800Z"
    }
   }
  },
  {
   "cell_type": "code",
   "execution_count": 23,
   "outputs": [
    {
     "name": "stdout",
     "output_type": "stream",
     "text": [
      "mean: 0.001857500000000001\n",
      "std: 0.0001600976264658538\n"
     ]
    }
   ],
   "source": [
    "import numpy as np\n",
    "\n",
    "runs = []\n",
    "for _ in range(10):\n",
    "    runs.append(recommend_and_evaluate())\n",
    "\n",
    "print(f\"mean: {np.mean(runs)}\")\n",
    "print(f\"std: {np.std(runs)}\")"
   ],
   "metadata": {
    "collapsed": false,
    "ExecuteTime": {
     "end_time": "2023-05-15T12:07:58.769334400Z",
     "start_time": "2023-05-15T12:07:56.350628100Z"
    }
   }
  }
 ],
 "metadata": {
  "kernelspec": {
   "display_name": "Python 3",
   "language": "python",
   "name": "python3"
  },
  "language_info": {
   "codemirror_mode": {
    "name": "ipython",
    "version": 2
   },
   "file_extension": ".py",
   "mimetype": "text/x-python",
   "name": "python",
   "nbconvert_exporter": "python",
   "pygments_lexer": "ipython2",
   "version": "2.7.6"
  }
 },
 "nbformat": 4,
 "nbformat_minor": 0
}
