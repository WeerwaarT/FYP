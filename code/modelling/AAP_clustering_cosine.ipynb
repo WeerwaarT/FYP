{
 "cells": [
  {
   "cell_type": "code",
   "execution_count": 1,
   "metadata": {
    "collapsed": true,
    "ExecuteTime": {
     "end_time": "2023-05-14T02:00:50.255515Z",
     "start_time": "2023-05-14T02:00:49.942229800Z"
    }
   },
   "outputs": [],
   "source": [
    "import pandas as pd"
   ]
  },
  {
   "cell_type": "code",
   "execution_count": 2,
   "outputs": [],
   "source": [
    "thresholds = [10, 20, 50, 100, 200]"
   ],
   "metadata": {
    "collapsed": false,
    "ExecuteTime": {
     "end_time": "2023-05-14T02:00:50.270528900Z",
     "start_time": "2023-05-14T02:00:50.256515900Z"
    }
   }
  },
  {
   "cell_type": "code",
   "execution_count": 3,
   "outputs": [],
   "source": [
    "df_plays = pd.read_csv('../LFM-1b/LFM-1b_LEs_PC.txt', sep='\\t')\n",
    "grouped_plays = df_plays.groupby('user_id')"
   ],
   "metadata": {
    "collapsed": false,
    "ExecuteTime": {
     "end_time": "2023-05-14T02:00:50.429673900Z",
     "start_time": "2023-05-14T02:00:50.271529700Z"
    }
   }
  },
  {
   "cell_type": "code",
   "execution_count": 4,
   "outputs": [],
   "source": [
    "AAP = {}\n",
    "AAP_normalized = {}\n",
    "for t in thresholds:\n",
    "    df = pd.read_csv(f'../LFM-1b_UGP/AAP/LFM-1b_AAP_{t}.txt', sep='\\t')\n",
    "    df.set_index('artist_id', inplace=True)\n",
    "    df = df.loc[(df.sum(axis=1) != 0)]\n",
    "    index_to_artist_id = {index: artist_id for index, artist_id in enumerate(df.index.tolist())}\n",
    "    artist_id_to_index = {artist_id: index for index, artist_id in enumerate(df.index.tolist())}\n",
    "    AAP[t] = (df, index_to_artist_id, artist_id_to_index)\n",
    "\n",
    "    df = pd.read_csv(f'../LFM-1b_UGP/AAP/LFM-1b_AAP_{t}_normalized.txt', sep='\\t')\n",
    "    df.set_index('artist_id', inplace=True)\n",
    "    df = df.loc[(df.sum(axis=1) != 0)]\n",
    "    index_to_artist_id = {index: artist_id for index, artist_id in enumerate(df.index.tolist())}\n",
    "    artist_id_to_index = {artist_id: index for index, artist_id in enumerate(df.index.tolist())}\n",
    "    AAP_normalized[t] = (df, index_to_artist_id, artist_id_to_index)"
   ],
   "metadata": {
    "collapsed": false,
    "ExecuteTime": {
     "end_time": "2023-05-14T02:00:53.581544Z",
     "start_time": "2023-05-14T02:00:50.433677300Z"
    }
   }
  },
  {
   "cell_type": "code",
   "execution_count": 5,
   "outputs": [],
   "source": [
    "from collections import defaultdict\n",
    "import heapq\n",
    "import skfuzzy as fuzz\n",
    "from sklearn.metrics.pairwise import cosine_similarity\n",
    "from sklearn.model_selection import train_test_split"
   ],
   "metadata": {
    "collapsed": false,
    "ExecuteTime": {
     "end_time": "2023-05-14T02:00:54.071991100Z",
     "start_time": "2023-05-14T02:00:53.581544Z"
    }
   }
  },
  {
   "cell_type": "code",
   "execution_count": 6,
   "outputs": [],
   "source": [
    "df_plays_test = pd.read_csv('../testing/test_playcounts.txt', sep='\\t')\n",
    "user_ids = df_plays_test['user_id'].unique()\n",
    "liked_artists = {}\n",
    "for t in thresholds:\n",
    "    mask = df_plays_test['artist_id'].isin(AAP[t][2]) & (df_plays_test['playcount'] >= t)\n",
    "    liked_artists[t] = df_plays_test[mask].groupby('user_id')['artist_id'].apply(list).to_dict(into=defaultdict(list))"
   ],
   "metadata": {
    "collapsed": false,
    "ExecuteTime": {
     "end_time": "2023-05-14T02:00:54.256158700Z",
     "start_time": "2023-05-14T02:00:54.073993Z"
    }
   }
  },
  {
   "cell_type": "code",
   "execution_count": 7,
   "outputs": [],
   "source": [
    "def train_and_test(threshold: int, normalized: bool, n_clusters: int, m_value: float = 2.0):\n",
    "    if normalized:\n",
    "        data = AAP[threshold]\n",
    "    else:\n",
    "        data = AAP_normalized[threshold]\n",
    "\n",
    "    _, u, _, _, jm, _, fpc = fuzz.cmeans(data[0].values.T, n_clusters, m_value, error=0.005, maxiter=2000)\n",
    "    if len(jm) == 2000 and abs(jm[-2] - jm[-1]) > 0.005:\n",
    "        print(f\"The algorithm didn't converge.  {m_value} {n_clusters}\")\n",
    "\n",
    "    return u.T"
   ],
   "metadata": {
    "collapsed": false,
    "ExecuteTime": {
     "end_time": "2023-05-14T02:00:54.273174500Z",
     "start_time": "2023-05-14T02:00:54.248151700Z"
    }
   }
  },
  {
   "cell_type": "code",
   "execution_count": 8,
   "outputs": [],
   "source": [
    "def recommend_and_evaluate(fuzzy_c_partitioned_matrix, threshold: int, normalized: bool):\n",
    "    if normalized:\n",
    "        data = AAP[threshold]\n",
    "    else:\n",
    "        data = AAP_normalized[threshold]\n",
    "\n",
    "    precisions = []\n",
    "    similarities = []\n",
    "    for i, user_id in enumerate(user_ids):\n",
    "        # print(f\"User {i}\")\n",
    "        artist_ids = liked_artists[threshold][user_id]\n",
    "        if len(artist_ids) < 2:\n",
    "            continue\n",
    "\n",
    "        if len(artist_ids) < 5:\n",
    "            train_artists, test_artists = train_test_split(artist_ids, train_size=0.75, random_state=42)\n",
    "        else:\n",
    "            train_artists, test_artists = train_test_split(artist_ids, test_size=0.2, random_state=42)\n",
    "\n",
    "        k = 100\n",
    "        top_k = []\n",
    "        for artist_id in train_artists:\n",
    "            index = data[2][artist_id]\n",
    "            cosine_sim = cosine_similarity(fuzzy_c_partitioned_matrix[[index]], fuzzy_c_partitioned_matrix)\n",
    "            cosine_sim[0][index] = 0\n",
    "            for idx, sim_value in enumerate(cosine_sim[0]):\n",
    "                # if sim_value > 0.8:\n",
    "                #     continue\n",
    "\n",
    "                if len(top_k) < k:\n",
    "                    heapq.heappush(top_k, (sim_value, idx))\n",
    "                else:\n",
    "                    if sim_value > top_k[0][0]:\n",
    "                        heapq.heapreplace(top_k, (sim_value, idx))\n",
    "\n",
    "        top_k.sort(key=lambda x: x[0], reverse=True)\n",
    "        positive = 0\n",
    "        for sim_value, index in top_k:\n",
    "            artist_id = data[1][index]\n",
    "            if artist_id in test_artists:\n",
    "                # print(f\"GOAL!       {sim_value}\")\n",
    "                positive += 1\n",
    "                similarities.append(sim_value)\n",
    "\n",
    "        precisions.append(positive / min(k, len(test_artists)))\n",
    "\n",
    "    print(f'precision: {sum(precisions) / len(precisions)}')\n",
    "    print('similarities')\n",
    "    print(similarities)"
   ],
   "metadata": {
    "collapsed": false,
    "ExecuteTime": {
     "end_time": "2023-05-14T02:00:54.304202900Z",
     "start_time": "2023-05-14T02:00:54.268169900Z"
    }
   }
  },
  {
   "cell_type": "code",
   "execution_count": 9,
   "outputs": [],
   "source": [
    "u_t10_c10 = train_and_test(threshold=10, normalized=False, n_clusters=10)"
   ],
   "metadata": {
    "collapsed": false,
    "ExecuteTime": {
     "end_time": "2023-05-14T02:01:09.584810700Z",
     "start_time": "2023-05-14T02:00:54.281181700Z"
    }
   }
  },
  {
   "cell_type": "code",
   "execution_count": 10,
   "outputs": [
    {
     "name": "stdout",
     "output_type": "stream",
     "text": [
      "precision: 0.00859016851142932\n",
      "similarities\n",
      "[1.0, 0.999861455089224, 1.0, 0.9999545191829152, 0.9999380822056155, 0.9991728786302317, 0.9998805137835383, 0.9998804103517286, 0.9998508345863114, 0.9998480109753289, 0.9995245042807319, 0.9986448389090917, 1.0000000000000002, 0.9999585225975169, 0.9999683063674756, 0.9999999350144388, 1.0, 1.0000000000000002]\n"
     ]
    }
   ],
   "source": [
    "recommend_and_evaluate(fuzzy_c_partitioned_matrix=u_t10_c10, threshold=10, normalized=False)"
   ],
   "metadata": {
    "collapsed": false,
    "ExecuteTime": {
     "end_time": "2023-05-14T02:14:52.428538Z",
     "start_time": "2023-05-14T02:01:09.587813400Z"
    }
   }
  },
  {
   "cell_type": "code",
   "execution_count": 11,
   "outputs": [],
   "source": [
    "u_t20_c10 = train_and_test(threshold=20, normalized=False, n_clusters=10)"
   ],
   "metadata": {
    "collapsed": false,
    "ExecuteTime": {
     "end_time": "2023-05-14T02:15:02.084939800Z",
     "start_time": "2023-05-14T02:14:52.428538Z"
    }
   }
  },
  {
   "cell_type": "code",
   "execution_count": 12,
   "outputs": [
    {
     "name": "stdout",
     "output_type": "stream",
     "text": [
      "precision: 0.005805887272650279\n",
      "similarities\n",
      "[0.9999585233462435, 0.9999742854760714, 0.9999999979930168, 0.9999943531241384, 0.9998795112703558, 0.9964932493255426, 0.9995166665396936, 0.9999418672356526]\n"
     ]
    }
   ],
   "source": [
    "recommend_and_evaluate(fuzzy_c_partitioned_matrix=u_t20_c10, threshold=20, normalized=False)"
   ],
   "metadata": {
    "collapsed": false,
    "ExecuteTime": {
     "end_time": "2023-05-14T02:23:18.522441900Z",
     "start_time": "2023-05-14T02:15:02.085940600Z"
    }
   }
  },
  {
   "cell_type": "code",
   "execution_count": 13,
   "outputs": [],
   "source": [
    "u_t50_c10 = train_and_test(threshold=50, normalized=False, n_clusters=10)"
   ],
   "metadata": {
    "collapsed": false,
    "ExecuteTime": {
     "end_time": "2023-05-14T02:23:39.055199300Z",
     "start_time": "2023-05-14T02:23:18.523442800Z"
    }
   }
  },
  {
   "cell_type": "code",
   "execution_count": 14,
   "outputs": [
    {
     "name": "stdout",
     "output_type": "stream",
     "text": [
      "precision: 0.005767012687427912\n",
      "similarities\n",
      "[1.0, 0.999993808985878, 0.9998578082134144]\n"
     ]
    }
   ],
   "source": [
    "recommend_and_evaluate(fuzzy_c_partitioned_matrix=u_t50_c10, threshold=50, normalized=False)"
   ],
   "metadata": {
    "collapsed": false,
    "ExecuteTime": {
     "end_time": "2023-05-14T02:27:27.838921200Z",
     "start_time": "2023-05-14T02:23:39.055199300Z"
    }
   }
  },
  {
   "cell_type": "code",
   "execution_count": 15,
   "outputs": [],
   "source": [
    "u_t100_c10 = train_and_test(threshold=100, normalized=False, n_clusters=10)"
   ],
   "metadata": {
    "collapsed": false,
    "ExecuteTime": {
     "end_time": "2023-05-14T02:27:42.671465Z",
     "start_time": "2023-05-14T02:27:27.840922700Z"
    }
   }
  },
  {
   "cell_type": "code",
   "execution_count": 16,
   "outputs": [
    {
     "name": "stdout",
     "output_type": "stream",
     "text": [
      "precision: 0.013947990543735224\n",
      "similarities\n",
      "[0.9999580700719541, 0.9998054239659703, 0.9992074499425417, 0.9999767233041006, 0.9985829065622455, 0.9997810450473583]\n"
     ]
    }
   ],
   "source": [
    "recommend_and_evaluate(fuzzy_c_partitioned_matrix=u_t100_c10, threshold=100, normalized=False)"
   ],
   "metadata": {
    "collapsed": false,
    "ExecuteTime": {
     "end_time": "2023-05-14T02:29:39.222274200Z",
     "start_time": "2023-05-14T02:27:42.672465900Z"
    }
   }
  },
  {
   "cell_type": "code",
   "execution_count": 17,
   "outputs": [],
   "source": [
    "u_t200_c10 = train_and_test(threshold=200, normalized=False, n_clusters=10)"
   ],
   "metadata": {
    "collapsed": false,
    "ExecuteTime": {
     "end_time": "2023-05-14T02:30:16.232489300Z",
     "start_time": "2023-05-14T02:29:39.223275400Z"
    }
   }
  },
  {
   "cell_type": "code",
   "execution_count": 18,
   "outputs": [
    {
     "name": "stdout",
     "output_type": "stream",
     "text": [
      "precision: 0.0009469696969696969\n",
      "similarities\n",
      "[0.9999998982923699]\n"
     ]
    }
   ],
   "source": [
    "recommend_and_evaluate(fuzzy_c_partitioned_matrix=u_t200_c10, threshold=200, normalized=False)"
   ],
   "metadata": {
    "collapsed": false,
    "ExecuteTime": {
     "end_time": "2023-05-14T02:31:04.104228500Z",
     "start_time": "2023-05-14T02:30:16.233490400Z"
    }
   }
  },
  {
   "cell_type": "code",
   "execution_count": 19,
   "outputs": [],
   "source": [
    "u_t10_c10_normalized = train_and_test(threshold=10, normalized=True, n_clusters=10)"
   ],
   "metadata": {
    "collapsed": false,
    "ExecuteTime": {
     "end_time": "2023-05-14T02:31:32.456459400Z",
     "start_time": "2023-05-14T02:31:04.106229700Z"
    }
   }
  },
  {
   "cell_type": "code",
   "execution_count": 20,
   "outputs": [
    {
     "name": "stdout",
     "output_type": "stream",
     "text": [
      "precision: 0.00172183628686611\n",
      "similarities\n",
      "[0.9997544606657949, 1.0000000000000002, 1.0000000000000002, 0.999999975705366, 0.9999997701127484]\n"
     ]
    }
   ],
   "source": [
    "recommend_and_evaluate(fuzzy_c_partitioned_matrix=u_t10_c10_normalized, threshold=10, normalized=True)"
   ],
   "metadata": {
    "collapsed": false,
    "ExecuteTime": {
     "end_time": "2023-05-14T02:45:19.659658100Z",
     "start_time": "2023-05-14T02:31:32.455458300Z"
    }
   }
  },
  {
   "cell_type": "code",
   "execution_count": 21,
   "outputs": [
    {
     "name": "stdout",
     "output_type": "stream",
     "text": [
      "precision: 0.0006318344468633486\n",
      "similarities\n",
      "[0.999999999999906, 1.0000000000000002, 1.0000000000000002]\n"
     ]
    }
   ],
   "source": [
    "u_t20_c10_normalized = train_and_test(threshold=20, normalized=True, n_clusters=10)\n",
    "recommend_and_evaluate(fuzzy_c_partitioned_matrix=u_t20_c10_normalized, threshold=20, normalized=True)"
   ],
   "metadata": {
    "collapsed": false,
    "ExecuteTime": {
     "end_time": "2023-05-14T02:54:08.952556500Z",
     "start_time": "2023-05-14T02:45:19.661660100Z"
    }
   }
  },
  {
   "cell_type": "code",
   "execution_count": 22,
   "outputs": [
    {
     "name": "stdout",
     "output_type": "stream",
     "text": [
      "precision: 0.01124567474048443\n",
      "similarities\n",
      "[0.9928147520750756, 0.2878952516383318, 0.9999941683539816, 0.9921742745343122]\n"
     ]
    }
   ],
   "source": [
    "u_t50_c10_normalized = train_and_test(threshold=50, normalized=True, n_clusters=10)\n",
    "recommend_and_evaluate(fuzzy_c_partitioned_matrix=u_t50_c10_normalized, threshold=50, normalized=True)"
   ],
   "metadata": {
    "collapsed": false,
    "ExecuteTime": {
     "end_time": "2023-05-14T02:58:35.048072100Z",
     "start_time": "2023-05-14T02:54:08.952556500Z"
    }
   }
  },
  {
   "cell_type": "code",
   "execution_count": 23,
   "outputs": [
    {
     "name": "stdout",
     "output_type": "stream",
     "text": [
      "precision: 0.015425531914893617\n",
      "similarities\n",
      "[0.9994854514202852, 0.9999943120692364, 0.9998506784172371, 0.9999220855283236, 0.9998627306987357, 0.9987138019313977]\n"
     ]
    }
   ],
   "source": [
    "u_t100_c10_normalized = train_and_test(threshold=100, normalized=True, n_clusters=10)\n",
    "recommend_and_evaluate(fuzzy_c_partitioned_matrix=u_t100_c10_normalized, threshold=100, normalized=True)"
   ],
   "metadata": {
    "collapsed": false,
    "ExecuteTime": {
     "end_time": "2023-05-14T03:00:58.233281700Z",
     "start_time": "2023-05-14T02:58:35.049073400Z"
    }
   }
  },
  {
   "cell_type": "code",
   "execution_count": 24,
   "outputs": [
    {
     "name": "stdout",
     "output_type": "stream",
     "text": [
      "precision: 0.025757575757575757\n",
      "similarities\n",
      "[0.9999951324278644, 0.99829115871012, 0.9975436865096408, 0.9966836968225543, 0.2638177361658134, 0.9994453326363784, 0.9999696460490249, 0.9884660258461484]\n"
     ]
    }
   ],
   "source": [
    "u_t200_c10_normalized = train_and_test(threshold=200, normalized=True, n_clusters=10)\n",
    "recommend_and_evaluate(fuzzy_c_partitioned_matrix=u_t200_c10_normalized, threshold=200, normalized=True)"
   ],
   "metadata": {
    "collapsed": false,
    "ExecuteTime": {
     "end_time": "2023-05-14T03:02:12.367713500Z",
     "start_time": "2023-05-14T03:00:58.234282300Z"
    }
   }
  },
  {
   "cell_type": "code",
   "execution_count": 25,
   "outputs": [
    {
     "name": "stdout",
     "output_type": "stream",
     "text": [
      "threshold:  10 n_clusters: 15\n",
      "precision: 0.006332763944866163\n",
      "similarities\n",
      "[1.0000000000000002, 1.0000000000000002, 1.0000000000000002, 0.9999899950530095, 0.9999034745172852, 0.9999003365383617, 0.9998864796009805, 0.9995402933826243, 0.9999457985714117, 0.9996085692301581, 0.9989445634742403, 0.9992644820928182]\n",
      "threshold:  10 n_clusters: 15    normalized\n",
      "precision: 0.001991327625495011\n",
      "similarities\n",
      "[1.0000000000000002, 0.999965236800302, 0.998459146597457, 1.0000000000000002, 1.0000000000000002, 1.0000000000000002]\n",
      "--------------------------------------------------------------\n",
      "threshold:  20 n_clusters: 15\n",
      "precision: 0.0019611890999174236\n",
      "similarities\n",
      "[0.999914967137978, 0.9999035034700924, 0.9999350037415098, 0.9998502912870395]\n",
      "threshold:  20 n_clusters: 15    normalized\n",
      "precision: 0.0016968821159572603\n",
      "similarities\n",
      "[1.0000000000000004, 0.9993024375345224, 0.9999998277921024]\n",
      "--------------------------------------------------------------\n",
      "threshold:  50 n_clusters: 15\n",
      "precision: 0.0029849043689874136\n",
      "similarities\n",
      "[0.9999798207687132, 1.0, 1.0, 0.9999878810650307, 1.0000000000000002]\n",
      "threshold:  50 n_clusters: 15    normalized\n",
      "precision: 0.015282583621683969\n",
      "similarities\n",
      "[0.9982976225398459, 0.28368428597617934, 0.9999884202440692, 0.9999975838157359, 0.9809517769247958, 0.9999814445862109]\n",
      "--------------------------------------------------------------\n",
      "threshold:  100 n_clusters: 15\n",
      "precision: 0.009988179669030733\n",
      "similarities\n",
      "[0.9999062634591265, 0.9986242952546952, 0.9999924290837864, 0.9996468571588261, 0.999365875764642, 0.9997723295233361]\n",
      "threshold:  100 n_clusters: 15    normalized\n",
      "precision: 0.019148936170212766\n",
      "similarities\n",
      "[0.9997169080371219, 0.9997417987129411, 0.9995785778538774, 0.9995041745759771, 0.9981537947995058, 0.9997282491454811]\n",
      "--------------------------------------------------------------\n",
      "threshold:  200 n_clusters: 15\n",
      "precision: 0.006060606060606061\n",
      "similarities\n",
      "[0.9999993231837732, 0.9999991887157975, 0.9999988822479529, 0.9999967993982419]\n",
      "threshold:  200 n_clusters: 15    normalized\n",
      "precision: 0.025757575757575757\n",
      "similarities\n",
      "[0.9999149235673358, 0.9995003324679719, 0.9981480348872643, 0.9997215527188178, 0.9999717465564919, 0.9979045987421835, 0.9947230640995195, 0.9868901535179838, 0.29569397866768454, 0.999580485928281, 0.99996225814891]\n",
      "--------------------------------------------------------------\n",
      "threshold:  10 n_clusters: 20\n",
      "precision: 0.006958734737710867\n",
      "similarities\n",
      "[0.9999849128243594, 0.9998774689145058, 0.999549510513382, 1.0000000000000002, 0.9999465865364183, 1.0000000000000002, 1.0000000000000002, 0.9999401629945186, 0.9998532916413929, 0.9995592562320752, 0.9990468546118296, 1.0000000000000002, 0.9999493671020394, 0.9991508025351102]\n",
      "threshold:  10 n_clusters: 20    normalized\n",
      "precision: 0.0023352482368875806\n",
      "similarities\n",
      "[0.9999775399847667, 0.9994980153242782, 0.9999999990450278, 1.0000000000000002]\n",
      "--------------------------------------------------------------\n",
      "threshold:  20 n_clusters: 20\n",
      "precision: 0.0022725708780622074\n",
      "similarities\n",
      "[0.9998941585459336, 0.9999406438761477, 0.999898038576881, 0.9999495104038143, 1.0]\n",
      "threshold:  20 n_clusters: 20    normalized\n",
      "precision: 0.002890173410404624\n",
      "similarities\n",
      "[0.9813100757192373]\n",
      "--------------------------------------------------------------\n",
      "threshold:  50 n_clusters: 20\n",
      "precision: 0.0037778686135087514\n",
      "similarities\n",
      "[1.0, 0.9999894176882781, 1.0, 1.0, 0.9999889808158606, 1.0, 0.9999784515684419]\n",
      "threshold:  50 n_clusters: 20    normalized\n",
      "precision: 0.01124567474048443\n",
      "similarities\n",
      "[0.9973647963580886, 0.9993369279832446, 0.4919538405241197, 0.8925980440723885]\n",
      "--------------------------------------------------------------\n",
      "threshold:  100 n_clusters: 20\n",
      "precision: 0.005437352245862883\n",
      "similarities\n",
      "[0.9999186035273702, 0.9997032949653288, 0.9999943139605619, 0.9977994241924558]\n",
      "threshold:  100 n_clusters: 20    normalized\n",
      "precision: 0.011170212765957447\n",
      "similarities\n",
      "[0.9998330664728018, 0.9944738890779448, 0.9997000870866026, 0.9937047332798966]\n",
      "--------------------------------------------------------------\n",
      "threshold:  200 n_clusters: 20\n",
      "precision: 0.003314393939393939\n",
      "similarities\n",
      "[0.9999995011364868, 0.9999981910256164]\n",
      "threshold:  200 n_clusters: 20    normalized\n",
      "precision: 0.01628787878787879\n",
      "similarities\n",
      "[0.9997393899761314, 0.9892457606448433, 0.9851440531136869, 0.44236097471444635, 0.9996968431191072]\n",
      "--------------------------------------------------------------\n",
      "threshold:  10 n_clusters: 25\n",
      "precision: 0.007589576180515764\n",
      "similarities\n",
      "[1.0, 1.0, 0.9999915075127443, 0.9998648156715506, 0.9994400097700664, 1.0000000000000002, 0.9999486133295161, 0.9996159628444631, 0.9991615630011019, 0.9985198011095651, 0.9994122723597235]\n",
      "threshold:  10 n_clusters: 25    normalized\n",
      "precision: 0.0020723941000041083\n",
      "similarities\n",
      "[1.0000000000000004, 0.9999822786462574, 0.9995317489693323, 1.0000000000000002, 1.0000000000000004, 1.0000000000000004, 1.0000000000000002]\n",
      "--------------------------------------------------------------\n",
      "threshold:  20 n_clusters: 25\n",
      "precision: 0.0031293756507378015\n",
      "similarities\n",
      "[0.9999245779437838, 0.9998844308649744, 0.9998798479822646, 0.9998876381998345, 0.9984446205271251, 0.9999318616627886]\n",
      "threshold:  20 n_clusters: 25    normalized\n",
      "precision: 0.005463804018717313\n",
      "similarities\n",
      "[0.9999822786673641, 0.9814614682294142, 0.9999971544794232, 0.9997245697838618, 0.99999988946143]\n",
      "--------------------------------------------------------------\n",
      "threshold:  50 n_clusters: 25\n",
      "precision: 0.004426657540844392\n",
      "similarities\n",
      "[0.9999918982990503, 1.0000000000000002, 1.0000000000000002, 0.9999901876991253, 0.9999881031962204, 0.9999798614108816, 0.9999960642258978, 0.9999945274513486]\n",
      "threshold:  50 n_clusters: 25    normalized\n",
      "precision: 0.01643598615916955\n",
      "similarities\n",
      "[0.9908923490854555, 0.9939263431703247, 0.43093639863815847, 0.9998810870108386, 0.9786621691894909, 0.9999984234732124]\n",
      "--------------------------------------------------------------\n",
      "threshold:  100 n_clusters: 25\n",
      "precision: 0.008983451536643027\n",
      "similarities\n",
      "[0.9987162964082077, 0.999160854306808, 0.9999963959459763, 0.9994139068693267]\n",
      "threshold:  100 n_clusters: 25    normalized\n",
      "precision: 0.013829787234042552\n",
      "similarities\n",
      "[0.9995594546929636, 0.9963597780248638, 0.9997696852507023, 0.9974772784535932, 0.9861078224209012]\n",
      "--------------------------------------------------------------\n",
      "threshold:  200 n_clusters: 25\n",
      "precision: 0.0014204545454545455\n",
      "similarities\n",
      "[0.9999995432908892]\n",
      "threshold:  200 n_clusters: 25    normalized\n",
      "precision: 0.018465909090909092\n",
      "similarities\n",
      "[0.9993395136625635, 0.9929094892687335, 0.9865734073983717, 0.4610682888821014, 0.9997041532666008, 0.9994792896977127]\n",
      "--------------------------------------------------------------\n"
     ]
    }
   ],
   "source": [
    "for n_clusters in [15, 20, 25]:\n",
    "    for t in thresholds:\n",
    "        print(f\"threshold:  {t} n_clusters: {n_clusters}\")\n",
    "        recommend_and_evaluate(train_and_test(t, False, n_clusters), t, False)\n",
    "        print(f\"threshold:  {t} n_clusters: {n_clusters}    normalized\")\n",
    "        recommend_and_evaluate(train_and_test(t, True, n_clusters), t, True)\n",
    "        print(\"--------------------------------------------------------------\")"
   ],
   "metadata": {
    "collapsed": false,
    "ExecuteTime": {
     "end_time": "2023-05-14T07:04:46.672378600Z",
     "start_time": "2023-05-14T03:02:12.371716800Z"
    }
   }
  },
  {
   "cell_type": "code",
   "execution_count": null,
   "outputs": [],
   "source": [],
   "metadata": {
    "collapsed": false
   }
  }
 ],
 "metadata": {
  "kernelspec": {
   "display_name": "Python 3",
   "language": "python",
   "name": "python3"
  },
  "language_info": {
   "codemirror_mode": {
    "name": "ipython",
    "version": 2
   },
   "file_extension": ".py",
   "mimetype": "text/x-python",
   "name": "python",
   "nbconvert_exporter": "python",
   "pygments_lexer": "ipython2",
   "version": "2.7.6"
  }
 },
 "nbformat": 4,
 "nbformat_minor": 0
}
