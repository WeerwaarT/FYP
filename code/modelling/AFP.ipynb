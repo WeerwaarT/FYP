{
 "cells": [
  {
   "cell_type": "code",
   "execution_count": 11,
   "metadata": {
    "collapsed": true,
    "ExecuteTime": {
     "end_time": "2023-05-15T01:03:02.323877400Z",
     "start_time": "2023-05-15T01:03:02.300856500Z"
    }
   },
   "outputs": [],
   "source": [
    "import pandas as pd"
   ]
  },
  {
   "cell_type": "code",
   "execution_count": 12,
   "outputs": [],
   "source": [
    "thresholds = [10, 20, 50, 100, 200]"
   ],
   "metadata": {
    "collapsed": false,
    "ExecuteTime": {
     "end_time": "2023-05-15T01:03:02.348900500Z",
     "start_time": "2023-05-15T01:03:02.313867800Z"
    }
   }
  },
  {
   "cell_type": "code",
   "execution_count": 13,
   "outputs": [],
   "source": [
    "AFP = {}\n",
    "AFP_normalized = {}\n",
    "for t in thresholds:\n",
    "    df = pd.read_csv(f'../LFM-1b_UGP/AFP/LFM-1b_AFP_{t}.txt', sep='\\t')\n",
    "    df.set_index('artist_id', inplace=True)\n",
    "    df = df.loc[(df.sum(axis=1) != 0)]\n",
    "    index_to_artist_id = {index: artist_id for index, artist_id in enumerate(df.index.tolist())}\n",
    "    artist_id_to_index = {artist_id: index for index, artist_id in enumerate(df.index.tolist())}\n",
    "    AFP[t] = (df, index_to_artist_id, artist_id_to_index)\n",
    "\n",
    "    df = pd.read_csv(f'../LFM-1b_UGP/AFP/LFM-1b_AFP_{t}_normalized.txt', sep='\\t')\n",
    "    df.set_index('artist_id', inplace=True)\n",
    "    df = df.loc[(df.sum(axis=1) != 0)]\n",
    "    index_to_artist_id = {index: artist_id for index, artist_id in enumerate(df.index.tolist())}\n",
    "    artist_id_to_index = {artist_id: index for index, artist_id in enumerate(df.index.tolist())}\n",
    "    AFP_normalized[t] = (df, index_to_artist_id, artist_id_to_index)"
   ],
   "metadata": {
    "collapsed": false,
    "ExecuteTime": {
     "end_time": "2023-05-15T01:03:04.465828500Z",
     "start_time": "2023-05-15T01:03:02.327881200Z"
    }
   }
  },
  {
   "cell_type": "code",
   "execution_count": 14,
   "outputs": [],
   "source": [
    "from collections import defaultdict\n",
    "import heapq\n",
    "from sklearn.metrics.pairwise import cosine_similarity, pairwise_distances\n",
    "from sklearn.model_selection import train_test_split"
   ],
   "metadata": {
    "collapsed": false,
    "ExecuteTime": {
     "end_time": "2023-05-15T01:03:04.484845100Z",
     "start_time": "2023-05-15T01:03:04.462825400Z"
    }
   }
  },
  {
   "cell_type": "code",
   "execution_count": 15,
   "outputs": [],
   "source": [
    "df_plays_test = pd.read_csv('../testing/test_playcounts.txt', sep='\\t')\n",
    "user_ids = df_plays_test['user_id'].unique()\n",
    "liked_artists = {}\n",
    "for t in thresholds:\n",
    "    mask = df_plays_test['artist_id'].isin(AFP[t][2]) & (df_plays_test['playcount'] >= t)\n",
    "    liked_artists[t] = df_plays_test[mask].groupby('user_id')['artist_id'].apply(list).to_dict(into=defaultdict(list))"
   ],
   "metadata": {
    "collapsed": false,
    "ExecuteTime": {
     "end_time": "2023-05-15T01:03:04.603954200Z",
     "start_time": "2023-05-15T01:03:04.477839100Z"
    }
   }
  },
  {
   "cell_type": "code",
   "execution_count": 16,
   "outputs": [],
   "source": [
    "def recommend_and_evaluate(threshold: int, normalized: bool):\n",
    "    if normalized:\n",
    "        data = AFP[threshold]\n",
    "    else:\n",
    "        data = AFP_normalized[threshold]\n",
    "\n",
    "    precisions_cosine = []\n",
    "    precisions_kNN = []\n",
    "    distances = []\n",
    "    for i, user_id in enumerate(user_ids):\n",
    "        # print(f\"User {i}\")\n",
    "        artist_ids = liked_artists[threshold][user_id]\n",
    "        if len(artist_ids) < 2:\n",
    "            continue\n",
    "\n",
    "        if len(artist_ids) < 5:\n",
    "            train_artists, test_artists = train_test_split(artist_ids, train_size=0.75, random_state=42)\n",
    "        else:\n",
    "            train_artists, test_artists = train_test_split(artist_ids, test_size=0.2, random_state=42)\n",
    "\n",
    "        k = 100\n",
    "        top_k_kNN = []\n",
    "        top_k_cosine = []\n",
    "        for artist_id in train_artists:\n",
    "            index = data[2][artist_id]\n",
    "            pw_distances = pairwise_distances(data[0].values[[index]], data[0].values)\n",
    "            cosine_sim = cosine_similarity(data[0].values[[index]], data[0].values)\n",
    "            pw_distances[0][index] = float('inf')\n",
    "            cosine_sim[0][index] = 0\n",
    "            for idx, distance in enumerate(pw_distances[0]):\n",
    "                if len(top_k_kNN) < k:\n",
    "                    heapq.heappush(top_k_kNN, (distance, idx))\n",
    "                else:\n",
    "                    if distance < top_k_kNN[0][0]:\n",
    "                        heapq.heapreplace(top_k_kNN, (distance, idx))\n",
    "\n",
    "            for idx, sim_value in enumerate(cosine_sim[0]):\n",
    "                if len(top_k_cosine) < k:\n",
    "                    heapq.heappush(top_k_cosine, (sim_value, idx))\n",
    "                else:\n",
    "                    if sim_value > top_k_cosine[0][0]:\n",
    "                        heapq.heapreplace(top_k_cosine, (sim_value, idx))\n",
    "\n",
    "        positive_kNN = 0\n",
    "        for distance, index in top_k_kNN:\n",
    "            artist_id = data[1][index]\n",
    "            if artist_id in test_artists:\n",
    "                # print(f\"GOAL!       {distance}\")\n",
    "                positive_kNN += 1\n",
    "                distances.append(distance)\n",
    "\n",
    "        precisions_kNN.append(positive_kNN / min(k, len(test_artists)))\n",
    "\n",
    "        positive_cosine = 0\n",
    "        for sim_value, index in top_k_cosine:\n",
    "            artist_id = data[1][index]\n",
    "            if artist_id in test_artists:\n",
    "                # print(f\"GOAL!       {sim_value}\")\n",
    "                positive_cosine += 1\n",
    "\n",
    "        precisions_cosine.append(positive_cosine / min(k, len(test_artists)))\n",
    "\n",
    "    print(f'precision (cosine): {sum(precisions_cosine) / len(precisions_cosine)}')\n",
    "    print(f'precision (kNN): {sum(precisions_kNN) / len(precisions_kNN)}')\n",
    "    # print('distances')\n",
    "    # print(distances)"
   ],
   "metadata": {
    "collapsed": false,
    "ExecuteTime": {
     "end_time": "2023-05-15T01:03:04.619968800Z",
     "start_time": "2023-05-15T01:03:04.609959300Z"
    }
   }
  },
  {
   "cell_type": "code",
   "execution_count": 17,
   "outputs": [
    {
     "name": "stdout",
     "output_type": "stream",
     "text": [
      "threshold:  10\n",
      "precision (cosine): 0.03907858330823271\n",
      "precision (kNN): 0.04353365065786911\n",
      "threshold:  10 normalized\n",
      "precision (cosine): 0.041246266526715925\n",
      "precision (kNN): 0.04433735446421348\n",
      "--------------------------------------------------------------\n",
      "threshold:  20\n",
      "precision (cosine): 0.07886709662219867\n",
      "precision (kNN): 0.05167313926214331\n",
      "threshold:  20 normalized\n",
      "precision (cosine): 0.08001819964663166\n",
      "precision (kNN): 0.050347423878695216\n",
      "--------------------------------------------------------------\n",
      "threshold:  50\n",
      "precision (cosine): 0.09126445169384806\n",
      "precision (kNN): 0.0687559873420582\n",
      "threshold:  50 normalized\n",
      "precision (cosine): 0.09077371323812604\n",
      "precision (kNN): 0.06646528674174906\n",
      "--------------------------------------------------------------\n",
      "threshold:  100\n",
      "precision (cosine): 0.13088976613205686\n",
      "precision (kNN): 0.06617845769828147\n",
      "threshold:  100 normalized\n",
      "precision (cosine): 0.13000696073383297\n",
      "precision (kNN): 0.06373107639627461\n",
      "--------------------------------------------------------------\n",
      "threshold:  200\n",
      "precision (cosine): 0.19526348039215685\n",
      "precision (kNN): 0.11930537599655247\n",
      "threshold:  200 normalized\n",
      "precision (cosine): 0.19697916666666665\n",
      "precision (kNN): 0.12555537599655248\n",
      "--------------------------------------------------------------\n"
     ]
    }
   ],
   "source": [
    "for t in thresholds:\n",
    "    print(f\"threshold:  {t}\")\n",
    "    recommend_and_evaluate(t, False)\n",
    "    print(f\"threshold:  {t} normalized\")\n",
    "    recommend_and_evaluate(t, True)\n",
    "    print(\"--------------------------------------------------------------\")"
   ],
   "metadata": {
    "collapsed": false,
    "ExecuteTime": {
     "end_time": "2023-05-15T01:35:08.899016600Z",
     "start_time": "2023-05-15T01:03:04.621970600Z"
    }
   }
  }
 ],
 "metadata": {
  "kernelspec": {
   "display_name": "Python 3",
   "language": "python",
   "name": "python3"
  },
  "language_info": {
   "codemirror_mode": {
    "name": "ipython",
    "version": 2
   },
   "file_extension": ".py",
   "mimetype": "text/x-python",
   "name": "python",
   "nbconvert_exporter": "python",
   "pygments_lexer": "ipython2",
   "version": "2.7.6"
  }
 },
 "nbformat": 4,
 "nbformat_minor": 0
}
