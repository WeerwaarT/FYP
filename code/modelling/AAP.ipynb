{
 "cells": [
  {
   "cell_type": "code",
   "execution_count": 1,
   "metadata": {
    "collapsed": true,
    "ExecuteTime": {
     "end_time": "2023-05-15T00:33:35.252864400Z",
     "start_time": "2023-05-15T00:33:34.955593800Z"
    }
   },
   "outputs": [],
   "source": [
    "import pandas as pd"
   ]
  },
  {
   "cell_type": "code",
   "execution_count": 2,
   "outputs": [],
   "source": [
    "thresholds = [10, 20, 50, 100, 200]"
   ],
   "metadata": {
    "collapsed": false,
    "ExecuteTime": {
     "end_time": "2023-05-15T00:33:35.267878400Z",
     "start_time": "2023-05-15T00:33:35.253865600Z"
    }
   }
  },
  {
   "cell_type": "code",
   "execution_count": 3,
   "outputs": [],
   "source": [
    "AAP = {}\n",
    "AAP_normalized = {}\n",
    "for t in thresholds:\n",
    "    df = pd.read_csv(f'../LFM-1b_UGP/AAP/LFM-1b_AAP_{t}.txt', sep='\\t')\n",
    "    df.set_index('artist_id', inplace=True)\n",
    "    df = df.loc[(df.sum(axis=1) != 0)]\n",
    "    index_to_artist_id = {index: artist_id for index, artist_id in enumerate(df.index.tolist())}\n",
    "    artist_id_to_index = {artist_id: index for index, artist_id in enumerate(df.index.tolist())}\n",
    "    AAP[t] = (df, index_to_artist_id, artist_id_to_index)\n",
    "\n",
    "    df = pd.read_csv(f'../LFM-1b_UGP/AAP/LFM-1b_AAP_{t}_normalized.txt', sep='\\t')\n",
    "    df.set_index('artist_id', inplace=True)\n",
    "    df = df.loc[(df.sum(axis=1) != 0)]\n",
    "    index_to_artist_id = {index: artist_id for index, artist_id in enumerate(df.index.tolist())}\n",
    "    artist_id_to_index = {artist_id: index for index, artist_id in enumerate(df.index.tolist())}\n",
    "    AAP_normalized[t] = (df, index_to_artist_id, artist_id_to_index)"
   ],
   "metadata": {
    "collapsed": false,
    "ExecuteTime": {
     "end_time": "2023-05-15T00:33:38.315654Z",
     "start_time": "2023-05-15T00:33:35.267878400Z"
    }
   }
  },
  {
   "cell_type": "code",
   "execution_count": 4,
   "outputs": [],
   "source": [
    "from collections import defaultdict\n",
    "import heapq\n",
    "from sklearn.metrics.pairwise import cosine_similarity, pairwise_distances\n",
    "from sklearn.model_selection import train_test_split"
   ],
   "metadata": {
    "collapsed": false,
    "ExecuteTime": {
     "end_time": "2023-05-15T00:33:38.775072500Z",
     "start_time": "2023-05-15T00:33:38.316655200Z"
    }
   }
  },
  {
   "cell_type": "code",
   "execution_count": 5,
   "outputs": [],
   "source": [
    "df_plays_test = pd.read_csv('../testing/test_playcounts.txt', sep='\\t')\n",
    "user_ids = df_plays_test['user_id'].unique()\n",
    "liked_artists = {}\n",
    "for t in thresholds:\n",
    "    mask = df_plays_test['artist_id'].isin(AAP[t][2]) & (df_plays_test['playcount'] >= t)\n",
    "    liked_artists[t] = df_plays_test[mask].groupby('user_id')['artist_id'].apply(list).to_dict(into=defaultdict(list))"
   ],
   "metadata": {
    "collapsed": false,
    "ExecuteTime": {
     "end_time": "2023-05-15T00:33:38.933216900Z",
     "start_time": "2023-05-15T00:33:38.776073600Z"
    }
   }
  },
  {
   "cell_type": "code",
   "execution_count": 6,
   "outputs": [],
   "source": [
    "def recommend_and_evaluate(threshold: int, normalized: bool):\n",
    "    if normalized:\n",
    "        data = AAP[threshold]\n",
    "    else:\n",
    "        data = AAP_normalized[threshold]\n",
    "\n",
    "    precisions_cosine = []\n",
    "    precisions_kNN = []\n",
    "    distances = []\n",
    "    for i, user_id in enumerate(user_ids):\n",
    "        # print(f\"User {i}\")\n",
    "        artist_ids = liked_artists[threshold][user_id]\n",
    "        if len(artist_ids) < 2:\n",
    "            continue\n",
    "\n",
    "        if len(artist_ids) < 5:\n",
    "            train_artists, test_artists = train_test_split(artist_ids, train_size=0.75, random_state=42)\n",
    "        else:\n",
    "            train_artists, test_artists = train_test_split(artist_ids, test_size=0.2, random_state=42)\n",
    "\n",
    "        k = 100\n",
    "        top_k_kNN = []\n",
    "        top_k_cosine = []\n",
    "        for artist_id in train_artists:\n",
    "            index = data[2][artist_id]\n",
    "            pw_distances = pairwise_distances(data[0].values[[index]], data[0].values)\n",
    "            cosine_sim = cosine_similarity(data[0].values[[index]], data[0].values)\n",
    "            pw_distances[0][index] = float('inf')\n",
    "            cosine_sim[0][index] = 0\n",
    "            for idx, distance in enumerate(pw_distances[0]):\n",
    "                if len(top_k_kNN) < k:\n",
    "                    heapq.heappush(top_k_kNN, (distance, idx))\n",
    "                else:\n",
    "                    if distance < top_k_kNN[0][0]:\n",
    "                        heapq.heapreplace(top_k_kNN, (distance, idx))\n",
    "\n",
    "            for idx, sim_value in enumerate(cosine_sim[0]):\n",
    "                if len(top_k_cosine) < k:\n",
    "                    heapq.heappush(top_k_cosine, (sim_value, idx))\n",
    "                else:\n",
    "                    if sim_value > top_k_cosine[0][0]:\n",
    "                        heapq.heapreplace(top_k_cosine, (sim_value, idx))\n",
    "\n",
    "        positive_kNN = 0\n",
    "        for distance, index in top_k_kNN:\n",
    "            artist_id = data[1][index]\n",
    "            if artist_id in test_artists:\n",
    "                # print(f\"GOAL!       {distance}\")\n",
    "                positive_kNN += 1\n",
    "                distances.append(distance)\n",
    "\n",
    "        precisions_kNN.append(positive_kNN / min(k, len(test_artists)))\n",
    "\n",
    "        positive_cosine = 0\n",
    "        for sim_value, index in top_k_cosine:\n",
    "            artist_id = data[1][index]\n",
    "            if artist_id in test_artists:\n",
    "                # print(f\"GOAL!       {sim_value}\")\n",
    "                positive_cosine += 1\n",
    "\n",
    "        precisions_cosine.append(positive_cosine / min(k, len(test_artists)))\n",
    "\n",
    "    print(f'precision (cosine): {sum(precisions_cosine) / len(precisions_cosine)}')\n",
    "    print(f'precision (kNN): {sum(precisions_kNN) / len(precisions_kNN)}')\n",
    "    # print('distances')\n",
    "    # print(distances)"
   ],
   "metadata": {
    "collapsed": false,
    "ExecuteTime": {
     "end_time": "2023-05-15T00:33:38.948230300Z",
     "start_time": "2023-05-15T00:33:38.939221900Z"
    }
   }
  },
  {
   "cell_type": "code",
   "execution_count": 7,
   "outputs": [
    {
     "name": "stdout",
     "output_type": "stream",
     "text": [
      "threshold:  10\n",
      "precision (cosine): 0.007785261811298456\n",
      "precision (kNN): 0.04241843420674259\n",
      "threshold:  10 normalized\n",
      "precision (cosine): 0.007949196237527966\n",
      "precision (kNN): 0.04288898672647543\n",
      "--------------------------------------------------------------\n",
      "threshold:  20\n",
      "precision (cosine): 0.01262730525736306\n",
      "precision (kNN): 0.046433554198733726\n",
      "threshold:  20 normalized\n",
      "precision (cosine): 0.01262730525736306\n",
      "precision (kNN): 0.046116633009549324\n",
      "--------------------------------------------------------------\n",
      "threshold:  50\n",
      "precision (cosine): 0.017097132970835396\n",
      "precision (kNN): 0.057073923201379086\n",
      "threshold:  50 normalized\n",
      "precision (cosine): 0.018085763717251607\n",
      "precision (kNN): 0.05664002415156309\n",
      "--------------------------------------------------------------\n",
      "threshold:  100\n",
      "precision (cosine): 0.021217494089834515\n",
      "precision (kNN): 0.057094010232308104\n",
      "threshold:  100 normalized\n",
      "precision (cosine): 0.021217494089834515\n",
      "precision (kNN): 0.05784621311217056\n",
      "--------------------------------------------------------------\n",
      "threshold:  200\n",
      "precision (cosine): 0.06941533844942936\n",
      "precision (kNN): 0.06292306178669815\n",
      "threshold:  200 normalized\n",
      "precision (cosine): 0.06941533844942936\n",
      "precision (kNN): 0.06756321330184968\n",
      "--------------------------------------------------------------\n"
     ]
    }
   ],
   "source": [
    "for t in thresholds:\n",
    "    print(f\"threshold:  {t}\")\n",
    "    recommend_and_evaluate(t, False)\n",
    "    print(f\"threshold:  {t} normalized\")\n",
    "    recommend_and_evaluate(t, True)\n",
    "    print(\"--------------------------------------------------------------\")"
   ],
   "metadata": {
    "collapsed": false,
    "ExecuteTime": {
     "end_time": "2023-05-15T02:22:02.002331800Z",
     "start_time": "2023-05-15T00:33:38.950232200Z"
    }
   }
  }
 ],
 "metadata": {
  "kernelspec": {
   "display_name": "Python 3",
   "language": "python",
   "name": "python3"
  },
  "language_info": {
   "codemirror_mode": {
    "name": "ipython",
    "version": 2
   },
   "file_extension": ".py",
   "mimetype": "text/x-python",
   "name": "python",
   "nbconvert_exporter": "python",
   "pygments_lexer": "ipython2",
   "version": "2.7.6"
  }
 },
 "nbformat": 4,
 "nbformat_minor": 0
}
